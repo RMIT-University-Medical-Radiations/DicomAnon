{
 "cells": [
  {
   "cell_type": "code",
   "execution_count": 1,
   "id": "8aa7763e",
   "metadata": {},
   "outputs": [],
   "source": [
    "import random\n",
    "import numpy as np\n",
    "import glob\n",
    "import os\n",
    "from pydicom import dcmread\n",
    "import shutil\n",
    "import pandas as pd\n",
    "from os.path import expanduser\n",
    "from datetime import datetime"
   ]
  },
  {
   "cell_type": "code",
   "execution_count": 2,
   "id": "d3db2836",
   "metadata": {},
   "outputs": [],
   "source": [
    "source_base_dir = '/Users/E119562/Downloads/Test-GBM-Sorted-3'\n",
    "destination_base_dir = '/Users/E119562/Downloads/Test-GBM-Anon'\n",
    "mapping_file = '{}dicom-anon-mapping.xlsx'.format(expanduser('~')+os.sep)"
   ]
  },
  {
   "cell_type": "code",
   "execution_count": 3,
   "id": "8e9d3e4b-0347-4091-a74d-c0f5992916c4",
   "metadata": {},
   "outputs": [
    {
     "data": {
      "text/plain": [
       "'/Users/E119562/dicom-anon-mapping.xlsx'"
      ]
     },
     "execution_count": 3,
     "metadata": {},
     "output_type": "execute_result"
    }
   ],
   "source": [
    "mapping_file"
   ]
  },
  {
   "cell_type": "code",
   "execution_count": 4,
   "id": "c48d1dff-ff0c-4182-8281-253eb7ae5b48",
   "metadata": {},
   "outputs": [
    {
     "data": {
      "text/plain": [
       "['210846_SIM^JEFFREY^R']"
      ]
     },
     "execution_count": 4,
     "metadata": {},
     "output_type": "execute_result"
    }
   ],
   "source": [
    "patient_dirs_l = [ name for name in os.listdir(source_base_dir) if os.path.isdir(os.path.join(source_base_dir, name)) ]\n",
    "patient_dirs_l"
   ]
  },
  {
   "cell_type": "code",
   "execution_count": 5,
   "id": "661a77c7-dc58-4005-9a88-70c0f3e9f7df",
   "metadata": {},
   "outputs": [
    {
     "data": {
      "text/html": [
       "<div>\n",
       "<style scoped>\n",
       "    .dataframe tbody tr th:only-of-type {\n",
       "        vertical-align: middle;\n",
       "    }\n",
       "\n",
       "    .dataframe tbody tr th {\n",
       "        vertical-align: top;\n",
       "    }\n",
       "\n",
       "    .dataframe thead th {\n",
       "        text-align: right;\n",
       "    }\n",
       "</style>\n",
       "<table border=\"1\" class=\"dataframe\">\n",
       "  <thead>\n",
       "    <tr style=\"text-align: right;\">\n",
       "      <th></th>\n",
       "      <th>patient_id</th>\n",
       "      <th>anon_patient_dir_name</th>\n",
       "      <th>anon_patient_id</th>\n",
       "      <th>total_session_count</th>\n",
       "      <th>last_updated</th>\n",
       "    </tr>\n",
       "  </thead>\n",
       "  <tbody>\n",
       "    <tr>\n",
       "      <th>0</th>\n",
       "      <td>190854</td>\n",
       "      <td>Brain-0001</td>\n",
       "      <td>1</td>\n",
       "      <td>3</td>\n",
       "      <td>2024-05-01 14:05:47</td>\n",
       "    </tr>\n",
       "    <tr>\n",
       "      <th>1</th>\n",
       "      <td>210523</td>\n",
       "      <td>Brain-0002</td>\n",
       "      <td>2</td>\n",
       "      <td>8</td>\n",
       "      <td>2024-05-01 14:08:15</td>\n",
       "    </tr>\n",
       "    <tr>\n",
       "      <th>2</th>\n",
       "      <td>210846</td>\n",
       "      <td>Brain-0003</td>\n",
       "      <td>3</td>\n",
       "      <td>44</td>\n",
       "      <td>2024-05-01 14:09:43</td>\n",
       "    </tr>\n",
       "  </tbody>\n",
       "</table>\n",
       "</div>"
      ],
      "text/plain": [
       "   patient_id anon_patient_dir_name  anon_patient_id  total_session_count  \\\n",
       "0      190854            Brain-0001                1                    3   \n",
       "1      210523            Brain-0002                2                    8   \n",
       "2      210846            Brain-0003                3                   44   \n",
       "\n",
       "          last_updated  \n",
       "0  2024-05-01 14:05:47  \n",
       "1  2024-05-01 14:08:15  \n",
       "2  2024-05-01 14:09:43  "
      ]
     },
     "execution_count": 5,
     "metadata": {},
     "output_type": "execute_result"
    }
   ],
   "source": [
    "if os.path.isfile(mapping_file):\n",
    "    mapping_df = pd.read_excel(mapping_file, index_col=0)\n",
    "else:\n",
    "    mapping_df = None\n",
    "mapping_df"
   ]
  },
  {
   "cell_type": "code",
   "execution_count": 12,
   "id": "d27b7b24-43ae-4bb2-b7a6-228b7749b716",
   "metadata": {},
   "outputs": [],
   "source": [
    "def get_anon_patient_id(patient_id, mapping_df):\n",
    "    new_patient = False\n",
    "    if mapping_df is None:\n",
    "        print('no previous mapping - starting')\n",
    "        anon_patient_id = 1\n",
    "        new_patient = True\n",
    "    else:\n",
    "        # have we seen this patient ID before?\n",
    "        row_df = mapping_df[mapping_df.patient_id == patient_id]\n",
    "        if len(row_df) > 0:\n",
    "            anon_patient_id = row_df.iloc[0].anon_patient_id\n",
    "            new_patient = False\n",
    "            print('patient ID {} seen previously (anon ID {}) - appending to existing directory'.format(patient_id, anon_patient_id))\n",
    "        else:\n",
    "            anon_patient_id = mapping_df.anon_patient_id.max()+1\n",
    "            new_patient = True\n",
    "            print('patient ID {} not seen previously - adding new anon ID {} directory'.format(patient_id, anon_patient_id))\n",
    "    return new_patient, anon_patient_id"
   ]
  },
  {
   "cell_type": "code",
   "execution_count": 7,
   "id": "db9e327c-dac7-4413-9436-12a213bb3b0f",
   "metadata": {},
   "outputs": [
    {
     "name": "stdout",
     "output_type": "stream",
     "text": [
      "patient ID 210846 seen previously (anon ID 3) - appending existing anon directory\n",
      "found 84 source files\n"
     ]
    }
   ],
   "source": [
    "for patient_idx,patient_dir in enumerate(patient_dirs_l):\n",
    "    patient_id = int(patient_dir.split('_')[0])\n",
    "    new_patient, anon_patient_id = get_anon_patient_id(patient_id, mapping_df)\n",
    "    anon_patient_folder_name = 'Brain-{:04d}'.format(anon_patient_id)\n",
    "    anon_patient_dir = destination_base_dir + os.sep + anon_patient_folder_name\n",
    "    patient_full_dir = source_base_dir + os.sep + patient_dir\n",
    "    dicom_files = glob.glob('{}/**/*.dcm'.format(patient_full_dir), recursive=True)\n",
    "    print('found {} source files'.format(len(dicom_files)))\n",
    "    for source_file in dicom_files:\n",
    "        rel_path = os.path.relpath(source_file, patient_full_dir)  # use the same relative path for source and target\n",
    "        anon_patient_file = anon_patient_dir + os.sep + rel_path   # add the relative path to the 'Brain-nnnn' directory\n",
    "        # load and process the file\n",
    "        try:\n",
    "            ds = dcmread(source_file)\n",
    "        except Exception as e:\n",
    "            print(e)\n",
    "            invalid_file_count += 1\n",
    "        else:\n",
    "            # create the anon folder if it doesn't exist\n",
    "            target_dir = os.path.dirname(anon_patient_file)  # create the missing directories all the way to the DICOM file\n",
    "            if not os.path.exists(target_dir):\n",
    "                os.makedirs(target_dir)\n",
    "            ds.save_as(anon_patient_file)\n",
    "    # count the total sessions anonymised for this patient\n",
    "    anon_patient_sessions_l = [ name for name in os.listdir(anon_patient_dir) if os.path.isdir(os.path.join(anon_patient_dir, name)) ]\n",
    "    session_count = len(anon_patient_sessions_l)\n",
    "    # add or update the mapping\n",
    "    date_str = datetime.now().strftime(\"%Y-%m-%d %H:%M:%S\")\n",
    "    if new_patient:\n",
    "        row = pd.Series({'patient_id':patient_id, 'anon_patient_dir_name':anon_patient_folder_name, 'anon_patient_id':anon_patient_id, 'total_session_count':session_count, 'last_updated':date_str})\n",
    "        mapping_df = pd.concat([mapping_df, pd.DataFrame([row], columns=row.index)]).reset_index(drop=True)\n",
    "    else:\n",
    "        row_index = mapping_df.loc[mapping_df['patient_id'] == patient_id].index[0]\n",
    "        mapping_df.loc[row_index, 'total_session_count'] = session_count\n",
    "        mapping_df.loc[row_index, 'last_updated'] = date_str"
   ]
  },
  {
   "cell_type": "code",
   "execution_count": 8,
   "id": "5f16417e-4f12-485f-a3e7-abe936be5767",
   "metadata": {},
   "outputs": [
    {
     "data": {
      "text/html": [
       "<div>\n",
       "<style scoped>\n",
       "    .dataframe tbody tr th:only-of-type {\n",
       "        vertical-align: middle;\n",
       "    }\n",
       "\n",
       "    .dataframe tbody tr th {\n",
       "        vertical-align: top;\n",
       "    }\n",
       "\n",
       "    .dataframe thead th {\n",
       "        text-align: right;\n",
       "    }\n",
       "</style>\n",
       "<table border=\"1\" class=\"dataframe\">\n",
       "  <thead>\n",
       "    <tr style=\"text-align: right;\">\n",
       "      <th></th>\n",
       "      <th>patient_id</th>\n",
       "      <th>anon_patient_dir_name</th>\n",
       "      <th>anon_patient_id</th>\n",
       "      <th>total_session_count</th>\n",
       "      <th>last_updated</th>\n",
       "    </tr>\n",
       "  </thead>\n",
       "  <tbody>\n",
       "    <tr>\n",
       "      <th>0</th>\n",
       "      <td>190854</td>\n",
       "      <td>Brain-0001</td>\n",
       "      <td>1</td>\n",
       "      <td>3</td>\n",
       "      <td>2024-05-01 14:05:47</td>\n",
       "    </tr>\n",
       "    <tr>\n",
       "      <th>1</th>\n",
       "      <td>210523</td>\n",
       "      <td>Brain-0002</td>\n",
       "      <td>2</td>\n",
       "      <td>8</td>\n",
       "      <td>2024-05-01 14:08:15</td>\n",
       "    </tr>\n",
       "    <tr>\n",
       "      <th>2</th>\n",
       "      <td>210846</td>\n",
       "      <td>Brain-0003</td>\n",
       "      <td>3</td>\n",
       "      <td>45</td>\n",
       "      <td>2024-05-01 14:16:05</td>\n",
       "    </tr>\n",
       "  </tbody>\n",
       "</table>\n",
       "</div>"
      ],
      "text/plain": [
       "   patient_id anon_patient_dir_name  anon_patient_id  total_session_count  \\\n",
       "0      190854            Brain-0001                1                    3   \n",
       "1      210523            Brain-0002                2                    8   \n",
       "2      210846            Brain-0003                3                   45   \n",
       "\n",
       "          last_updated  \n",
       "0  2024-05-01 14:05:47  \n",
       "1  2024-05-01 14:08:15  \n",
       "2  2024-05-01 14:16:05  "
      ]
     },
     "execution_count": 8,
     "metadata": {},
     "output_type": "execute_result"
    }
   ],
   "source": [
    "mapping_df"
   ]
  },
  {
   "cell_type": "code",
   "execution_count": 9,
   "id": "763a89d2-724c-466c-9b5c-f4428ce9683a",
   "metadata": {},
   "outputs": [],
   "source": [
    "mapping_df.to_excel(mapping_file)"
   ]
  },
  {
   "cell_type": "code",
   "execution_count": 10,
   "id": "c895d9c2-5eb9-4dfc-97dc-b39548a15ff1",
   "metadata": {},
   "outputs": [],
   "source": [
    "dff = pd.read_excel(mapping_file, index_col=0)"
   ]
  },
  {
   "cell_type": "code",
   "execution_count": 11,
   "id": "e885a5af-5671-4aea-8ca9-c85602445dde",
   "metadata": {},
   "outputs": [
    {
     "data": {
      "text/html": [
       "<div>\n",
       "<style scoped>\n",
       "    .dataframe tbody tr th:only-of-type {\n",
       "        vertical-align: middle;\n",
       "    }\n",
       "\n",
       "    .dataframe tbody tr th {\n",
       "        vertical-align: top;\n",
       "    }\n",
       "\n",
       "    .dataframe thead th {\n",
       "        text-align: right;\n",
       "    }\n",
       "</style>\n",
       "<table border=\"1\" class=\"dataframe\">\n",
       "  <thead>\n",
       "    <tr style=\"text-align: right;\">\n",
       "      <th></th>\n",
       "      <th>patient_id</th>\n",
       "      <th>anon_patient_dir_name</th>\n",
       "      <th>anon_patient_id</th>\n",
       "      <th>total_session_count</th>\n",
       "      <th>last_updated</th>\n",
       "    </tr>\n",
       "  </thead>\n",
       "  <tbody>\n",
       "    <tr>\n",
       "      <th>0</th>\n",
       "      <td>190854</td>\n",
       "      <td>Brain-0001</td>\n",
       "      <td>1</td>\n",
       "      <td>3</td>\n",
       "      <td>2024-05-01 14:05:47</td>\n",
       "    </tr>\n",
       "    <tr>\n",
       "      <th>1</th>\n",
       "      <td>210523</td>\n",
       "      <td>Brain-0002</td>\n",
       "      <td>2</td>\n",
       "      <td>8</td>\n",
       "      <td>2024-05-01 14:08:15</td>\n",
       "    </tr>\n",
       "    <tr>\n",
       "      <th>2</th>\n",
       "      <td>210846</td>\n",
       "      <td>Brain-0003</td>\n",
       "      <td>3</td>\n",
       "      <td>45</td>\n",
       "      <td>2024-05-01 14:16:05</td>\n",
       "    </tr>\n",
       "  </tbody>\n",
       "</table>\n",
       "</div>"
      ],
      "text/plain": [
       "   patient_id anon_patient_dir_name  anon_patient_id  total_session_count  \\\n",
       "0      190854            Brain-0001                1                    3   \n",
       "1      210523            Brain-0002                2                    8   \n",
       "2      210846            Brain-0003                3                   45   \n",
       "\n",
       "          last_updated  \n",
       "0  2024-05-01 14:05:47  \n",
       "1  2024-05-01 14:08:15  \n",
       "2  2024-05-01 14:16:05  "
      ]
     },
     "execution_count": 11,
     "metadata": {},
     "output_type": "execute_result"
    }
   ],
   "source": [
    "dff"
   ]
  },
  {
   "cell_type": "code",
   "execution_count": null,
   "id": "8ca29c9f-4555-4ed7-b3d9-a0ec05524318",
   "metadata": {},
   "outputs": [],
   "source": []
  }
 ],
 "metadata": {
  "kernelspec": {
   "display_name": "Python 3 (ipykernel)",
   "language": "python",
   "name": "python3"
  },
  "language_info": {
   "codemirror_mode": {
    "name": "ipython",
    "version": 3
   },
   "file_extension": ".py",
   "mimetype": "text/x-python",
   "name": "python",
   "nbconvert_exporter": "python",
   "pygments_lexer": "ipython3",
   "version": "3.10.14"
  }
 },
 "nbformat": 4,
 "nbformat_minor": 5
}
