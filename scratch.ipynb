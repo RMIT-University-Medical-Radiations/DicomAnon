{
 "cells": [
  {
   "cell_type": "code",
   "execution_count": 1,
   "id": "8aa7763e",
   "metadata": {},
   "outputs": [],
   "source": [
    "import random\n",
    "import numpy as np\n",
    "import glob\n",
    "import os\n",
    "from pydicom import dcmread\n",
    "import shutil"
   ]
  },
  {
   "cell_type": "code",
   "execution_count": 2,
   "id": "d3db2836",
   "metadata": {},
   "outputs": [],
   "source": [
    "source_base_dir = '/Users/E119562/Downloads/Test-GBM'\n",
    "destination_base_dir = '/Users/E119562/Downloads/Test-GBM-Anon'"
   ]
  },
  {
   "cell_type": "code",
   "execution_count": 3,
   "id": "c48d1dff-ff0c-4182-8281-253eb7ae5b48",
   "metadata": {},
   "outputs": [
    {
     "data": {
      "text/plain": [
       "['190854_KLEIN^ANTHONY^TREVOR^MR', '210523_GALLOWAY^Samuel']"
      ]
     },
     "execution_count": 3,
     "metadata": {},
     "output_type": "execute_result"
    }
   ],
   "source": [
    "patient_dirs_l = [ name for name in os.listdir(source_base_dir) if os.path.isdir(os.path.join(source_base_dir, name)) ]\n",
    "patient_dirs_l"
   ]
  },
  {
   "cell_type": "code",
   "execution_count": 4,
   "id": "1ab17469-5485-43f7-ab24-e81fe2f43f9b",
   "metadata": {},
   "outputs": [],
   "source": [
    "base_patient_id = 1"
   ]
  },
  {
   "cell_type": "code",
   "execution_count": 32,
   "id": "db9e327c-dac7-4413-9436-12a213bb3b0f",
   "metadata": {},
   "outputs": [
    {
     "name": "stdout",
     "output_type": "stream",
     "text": [
      "/Users/E119562/Downloads/Test-GBM/190854_KLEIN^ANTHONY^TREVOR^MR\n",
      "found 7063 source files\n",
      "/Users/E119562/Downloads/Test-GBM/210523_GALLOWAY^Samuel\n",
      "found 756 source files\n"
     ]
    }
   ],
   "source": [
    "mapping_l = []\n",
    "for patient_idx,patient_dir in enumerate(patient_dirs_l):\n",
    "    patient_id = int(patient_dir.split('_')[0])\n",
    "    anon_patient_id = patient_idx+base_patient_id\n",
    "    anon_patient_folder_name = 'Brain-{:04d}'.format(anon_patient_id)\n",
    "    mapping_l.append({'source_base_dir':source_base_dir, 'patient_dir':patient_dir, 'patient_id':patient_id, 'destination_base_dir':destination_base_dir, 'anon_patient_dir':anon_patient_folder_name, 'anon_patient_index':anon_patient_id})\n",
    "    patient_full_dir = source_base_dir + os.sep + patient_dir\n",
    "    print(patient_full_dir)\n",
    "    dicom_files = glob.glob('{}/**/*.dcm'.format(patient_full_dir), recursive=True)\n",
    "    print('found {} source files'.format(len(dicom_files)))\n",
    "    for source_file in dicom_files:\n",
    "        rel_path = os.path.relpath(source_file, patient_full_dir)\n",
    "        target_file = destination_base_dir + os.sep + anon_patient_folder_name + os.sep + rel_path\n",
    "        # load and process the file\n",
    "        try:\n",
    "            ds = dcmread(source_file)\n",
    "        except Exception as e:\n",
    "            print(e)\n",
    "            invalid_file_count += 1\n",
    "        else:\n",
    "            # create the anon folder if it doesn't exist\n",
    "            target_dir = os.path.dirname(target_file)\n",
    "            if not os.path.exists(target_dir):\n",
    "                os.makedirs(target_dir)\n",
    "            ds.save_as(target_file)\n"
   ]
  },
  {
   "cell_type": "code",
   "execution_count": 33,
   "id": "1e38475d-317d-4e0d-83c8-6082190ba48a",
   "metadata": {},
   "outputs": [],
   "source": [
    "import pandas as pd"
   ]
  },
  {
   "cell_type": "code",
   "execution_count": 34,
   "id": "21ec7e33-57dd-4394-b552-7949d82fb90b",
   "metadata": {},
   "outputs": [
    {
     "data": {
      "text/plain": [
       "[{'source_base_dir': '/Users/E119562/Downloads/Test-GBM',\n",
       "  'patient_dir': '190854_KLEIN^ANTHONY^TREVOR^MR',\n",
       "  'patient_id': 190854,\n",
       "  'destination_base_dir': '/Users/E119562/Downloads/Test-GBM-Anon',\n",
       "  'anon_patient_dir': 'Brain-0001',\n",
       "  'anon_patient_index': 1},\n",
       " {'source_base_dir': '/Users/E119562/Downloads/Test-GBM',\n",
       "  'patient_dir': '210523_GALLOWAY^Samuel',\n",
       "  'patient_id': 210523,\n",
       "  'destination_base_dir': '/Users/E119562/Downloads/Test-GBM-Anon',\n",
       "  'anon_patient_dir': 'Brain-0002',\n",
       "  'anon_patient_index': 2}]"
      ]
     },
     "execution_count": 34,
     "metadata": {},
     "output_type": "execute_result"
    }
   ],
   "source": [
    "mapping_l"
   ]
  },
  {
   "cell_type": "code",
   "execution_count": 35,
   "id": "7e6155d1-52c7-416c-a3ce-52507d59885b",
   "metadata": {},
   "outputs": [],
   "source": [
    "df = pd.DataFrame(mapping_l)"
   ]
  },
  {
   "cell_type": "code",
   "execution_count": 36,
   "id": "4f9f8e3b-8f2c-4f06-ab6c-3b18450fc92d",
   "metadata": {},
   "outputs": [
    {
     "data": {
      "text/html": [
       "<div>\n",
       "<style scoped>\n",
       "    .dataframe tbody tr th:only-of-type {\n",
       "        vertical-align: middle;\n",
       "    }\n",
       "\n",
       "    .dataframe tbody tr th {\n",
       "        vertical-align: top;\n",
       "    }\n",
       "\n",
       "    .dataframe thead th {\n",
       "        text-align: right;\n",
       "    }\n",
       "</style>\n",
       "<table border=\"1\" class=\"dataframe\">\n",
       "  <thead>\n",
       "    <tr style=\"text-align: right;\">\n",
       "      <th></th>\n",
       "      <th>source_base_dir</th>\n",
       "      <th>patient_dir</th>\n",
       "      <th>patient_id</th>\n",
       "      <th>destination_base_dir</th>\n",
       "      <th>anon_patient_dir</th>\n",
       "      <th>anon_patient_index</th>\n",
       "    </tr>\n",
       "  </thead>\n",
       "  <tbody>\n",
       "    <tr>\n",
       "      <th>0</th>\n",
       "      <td>/Users/E119562/Downloads/Test-GBM</td>\n",
       "      <td>190854_KLEIN^ANTHONY^TREVOR^MR</td>\n",
       "      <td>190854</td>\n",
       "      <td>/Users/E119562/Downloads/Test-GBM-Anon</td>\n",
       "      <td>Brain-0001</td>\n",
       "      <td>1</td>\n",
       "    </tr>\n",
       "    <tr>\n",
       "      <th>1</th>\n",
       "      <td>/Users/E119562/Downloads/Test-GBM</td>\n",
       "      <td>210523_GALLOWAY^Samuel</td>\n",
       "      <td>210523</td>\n",
       "      <td>/Users/E119562/Downloads/Test-GBM-Anon</td>\n",
       "      <td>Brain-0002</td>\n",
       "      <td>2</td>\n",
       "    </tr>\n",
       "  </tbody>\n",
       "</table>\n",
       "</div>"
      ],
      "text/plain": [
       "                     source_base_dir                     patient_dir  \\\n",
       "0  /Users/E119562/Downloads/Test-GBM  190854_KLEIN^ANTHONY^TREVOR^MR   \n",
       "1  /Users/E119562/Downloads/Test-GBM          210523_GALLOWAY^Samuel   \n",
       "\n",
       "   patient_id                    destination_base_dir anon_patient_dir  \\\n",
       "0      190854  /Users/E119562/Downloads/Test-GBM-Anon       Brain-0001   \n",
       "1      210523  /Users/E119562/Downloads/Test-GBM-Anon       Brain-0002   \n",
       "\n",
       "   anon_patient_index  \n",
       "0                   1  \n",
       "1                   2  "
      ]
     },
     "execution_count": 36,
     "metadata": {},
     "output_type": "execute_result"
    }
   ],
   "source": [
    "df"
   ]
  },
  {
   "cell_type": "code",
   "execution_count": 37,
   "id": "763a89d2-724c-466c-9b5c-f4428ce9683a",
   "metadata": {},
   "outputs": [],
   "source": [
    "mapping_file = source_base_dir + os.sep + 'dicom-anon-mapping.xlsx'\n",
    "df.to_excel(mapping_file)"
   ]
  },
  {
   "cell_type": "code",
   "execution_count": 38,
   "id": "c895d9c2-5eb9-4dfc-97dc-b39548a15ff1",
   "metadata": {},
   "outputs": [],
   "source": [
    "dff = pd.read_excel(mapping_file, index_col=0)"
   ]
  },
  {
   "cell_type": "code",
   "execution_count": 39,
   "id": "e885a5af-5671-4aea-8ca9-c85602445dde",
   "metadata": {},
   "outputs": [
    {
     "data": {
      "text/html": [
       "<div>\n",
       "<style scoped>\n",
       "    .dataframe tbody tr th:only-of-type {\n",
       "        vertical-align: middle;\n",
       "    }\n",
       "\n",
       "    .dataframe tbody tr th {\n",
       "        vertical-align: top;\n",
       "    }\n",
       "\n",
       "    .dataframe thead th {\n",
       "        text-align: right;\n",
       "    }\n",
       "</style>\n",
       "<table border=\"1\" class=\"dataframe\">\n",
       "  <thead>\n",
       "    <tr style=\"text-align: right;\">\n",
       "      <th></th>\n",
       "      <th>source_base_dir</th>\n",
       "      <th>patient_dir</th>\n",
       "      <th>patient_id</th>\n",
       "      <th>destination_base_dir</th>\n",
       "      <th>anon_patient_dir</th>\n",
       "      <th>anon_patient_index</th>\n",
       "    </tr>\n",
       "  </thead>\n",
       "  <tbody>\n",
       "    <tr>\n",
       "      <th>0</th>\n",
       "      <td>/Users/E119562/Downloads/Test-GBM</td>\n",
       "      <td>190854_KLEIN^ANTHONY^TREVOR^MR</td>\n",
       "      <td>190854</td>\n",
       "      <td>/Users/E119562/Downloads/Test-GBM-Anon</td>\n",
       "      <td>Brain-0001</td>\n",
       "      <td>1</td>\n",
       "    </tr>\n",
       "    <tr>\n",
       "      <th>1</th>\n",
       "      <td>/Users/E119562/Downloads/Test-GBM</td>\n",
       "      <td>210523_GALLOWAY^Samuel</td>\n",
       "      <td>210523</td>\n",
       "      <td>/Users/E119562/Downloads/Test-GBM-Anon</td>\n",
       "      <td>Brain-0002</td>\n",
       "      <td>2</td>\n",
       "    </tr>\n",
       "  </tbody>\n",
       "</table>\n",
       "</div>"
      ],
      "text/plain": [
       "                     source_base_dir                     patient_dir  \\\n",
       "0  /Users/E119562/Downloads/Test-GBM  190854_KLEIN^ANTHONY^TREVOR^MR   \n",
       "1  /Users/E119562/Downloads/Test-GBM          210523_GALLOWAY^Samuel   \n",
       "\n",
       "   patient_id                    destination_base_dir anon_patient_dir  \\\n",
       "0      190854  /Users/E119562/Downloads/Test-GBM-Anon       Brain-0001   \n",
       "1      210523  /Users/E119562/Downloads/Test-GBM-Anon       Brain-0002   \n",
       "\n",
       "   anon_patient_index  \n",
       "0                   1  \n",
       "1                   2  "
      ]
     },
     "execution_count": 39,
     "metadata": {},
     "output_type": "execute_result"
    }
   ],
   "source": [
    "dff"
   ]
  },
  {
   "cell_type": "code",
   "execution_count": 40,
   "id": "bc4faf46-e68e-47df-8e3b-cbc3a4eda723",
   "metadata": {},
   "outputs": [
    {
     "data": {
      "text/plain": [
       "2"
      ]
     },
     "execution_count": 40,
     "metadata": {},
     "output_type": "execute_result"
    }
   ],
   "source": [
    "dff['anon_patient_index'].max()"
   ]
  },
  {
   "cell_type": "code",
   "execution_count": null,
   "id": "8ca29c9f-4555-4ed7-b3d9-a0ec05524318",
   "metadata": {},
   "outputs": [],
   "source": []
  }
 ],
 "metadata": {
  "kernelspec": {
   "display_name": "Python 3 (ipykernel)",
   "language": "python",
   "name": "python3"
  },
  "language_info": {
   "codemirror_mode": {
    "name": "ipython",
    "version": 3
   },
   "file_extension": ".py",
   "mimetype": "text/x-python",
   "name": "python",
   "nbconvert_exporter": "python",
   "pygments_lexer": "ipython3",
   "version": "3.10.14"
  }
 },
 "nbformat": 4,
 "nbformat_minor": 5
}
